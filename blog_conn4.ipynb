{
 "cells": [
  {
   "cell_type": "markdown",
   "metadata": {},
   "source": [
    "This project aims to implement the simple connect-four game in Python with Pygame."
   ]
  },
  {
   "cell_type": "markdown",
   "metadata": {},
   "source": [
    "Plan: \n",
    "    1. Create the screen\n",
    "        - It will be made of 2 parts: \n",
    "            - a top-screen in which the active colour will be drawn as a ball and on where the winner \n",
    "                will be declared\n",
    "            - a bottom part containing a grid of 6x6 circles whose colours can be changed.\n",
    "    2. The active-colour ball in the top-screen will follow the motion of the mouse as it moves across \n",
    "        the grid columns.\n",
    "    3. When the mouse clicks on any circle, the colour of the bottom-most white circle in that column \n",
    "        will change to the active colour\n",
    "    4. Check each column, row and diagonal for arrangements of a single colour in successions of up to four."
   ]
  },
  {
   "cell_type": "code",
   "execution_count": null,
   "metadata": {},
   "outputs": [],
   "source": [
    "# Imports\n",
    "import pygame\n",
    "from pygame.locals import *\n",
    "from gameobjects.vector2 import Vector2\n",
    "from sys import exit\n",
    "\n",
    "# Initialise\n",
    "pygame.init()\n",
    "pygame.mixer.init()\n",
    "pygame.font.init()\n",
    "\n",
    "# Constants\n",
    "WIDTH = 480; HEIGHT = 600\n",
    "SCREEN_SIZE = (WIDTH+1, HEIGHT+1)\n",
    "screen = pygame.display.set_mode(SCREEN_SIZE, 0, 32)\n",
    "pygame.display.set_caption('Connect Four')\n",
    "\n",
    "GRID_SIDE = 80\n",
    "TOP_SCREEN_SIZE = (WIDTH, 120)\n",
    "\n",
    "WHITE = (255,255,255)\n",
    "BLACK = (0,0,0)\n",
    "BLUE = (0,0,100)\n",
    "YELLOW = (250,255,0)\n",
    "RED = (255,0,50)\n",
    "WINNERFONT = pygame.font.SysFont('comicsans', 80)"
   ]
  },
  {
   "cell_type": "markdown",
   "metadata": {},
   "source": [
    "In order to be able to check every single row and column and diagonal for 4 colours, I first created an array \n",
    "class to stand for the grid and defined methods that could perform this checking for me instead. This could \n",
    "also be similarly done with numpy arrays, but I tried to avoid using external modules. The class is called \n",
    "Matrix and it takes in a list of lists that represent the rows of numbers, which correspond to the positions \n",
    "of the circles in the grid."
   ]
  }
 ],
 "metadata": {
  "interpreter": {
   "hash": "f6974655bea58c83286e95eaafaa96a47545ca85449f49e70262c1676269657a"
  },
  "kernelspec": {
   "display_name": "Python 3.6.8 32-bit",
   "language": "python",
   "name": "python3"
  },
  "language_info": {
   "name": "python",
   "version": "3.6.8"
  },
  "orig_nbformat": 4
 },
 "nbformat": 4,
 "nbformat_minor": 2
}
